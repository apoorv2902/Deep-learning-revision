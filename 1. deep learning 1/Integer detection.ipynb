{
 "cells": [
  {
   "cell_type": "code",
   "execution_count": 1,
   "metadata": {},
   "outputs": [],
   "source": [
    "import tensorflow as tf\n",
    "from tensorflow import keras"
   ]
  },
  {
   "cell_type": "code",
   "execution_count": 2,
   "metadata": {},
   "outputs": [],
   "source": [
    "import matplotlib.pyplot as plt\n",
    "import seaborn as sn\n",
    "import numpy as np"
   ]
  },
  {
   "cell_type": "code",
   "execution_count": 3,
   "metadata": {},
   "outputs": [],
   "source": [
    "%matplotlib inline"
   ]
  },
  {
   "cell_type": "code",
   "execution_count": 4,
   "metadata": {},
   "outputs": [
    {
     "name": "stdout",
     "output_type": "stream",
     "text": [
      "Downloading data from https://storage.googleapis.com/tensorflow/tf-keras-datasets/mnist.npz\n",
      "11493376/11490434 [==============================] - 5s 0us/step\n",
      "11501568/11490434 [==============================] - 5s 0us/step\n"
     ]
    }
   ],
   "source": [
    "(X_train, y_train) , (X_test, y_test) = keras.datasets.mnist.load_data()"
   ]
  },
  {
   "cell_type": "code",
   "execution_count": 5,
   "metadata": {},
   "outputs": [
    {
     "data": {
      "text/plain": [
       "(60000, 28, 28)"
      ]
     },
     "execution_count": 5,
     "metadata": {},
     "output_type": "execute_result"
    }
   ],
   "source": [
    "X_train.shape"
   ]
  },
  {
   "cell_type": "code",
   "execution_count": 6,
   "metadata": {},
   "outputs": [
    {
     "data": {
      "text/plain": [
       "(10000, 28, 28)"
      ]
     },
     "execution_count": 6,
     "metadata": {},
     "output_type": "execute_result"
    }
   ],
   "source": [
    "X_test.shape"
   ]
  },
  {
   "cell_type": "code",
   "execution_count": 10,
   "metadata": {},
   "outputs": [
    {
     "data": {
      "image/png": "[encoded data removed]",
      "text/plain": [
       "<Figure size 288x288 with 1 Axes>"
      ]
     },
     "metadata": {
      "needs_background": "light"
     },
     "output_type": "display_data"
    }
   ],
   "source": [
    "plt.matshow(X_train[2])\n",
    "plt.show()"
   ]
  },
  {
   "cell_type": "code",
   "execution_count": 15,
   "metadata": {},
   "outputs": [],
   "source": [
    "#scaling the values\n",
    "X_train = X_train / 255\n",
    "X_test = X_test / 255"
   ]
  },
  {
   "cell_type": "code",
   "execution_count": 14,
   "metadata": {},
   "outputs": [],
   "source": [
    "#Reshaping the input to 1d array from 2d array\n",
    "X_train_flattened = X_train.reshape(len(X_train), 28*28)\n",
    "X_test_flattened = X_test.reshape(len(X_test), 28*28)"
   ]
  },
  {
   "cell_type": "code",
   "execution_count": 17,
   "metadata": {},
   "outputs": [
    {
     "name": "stdout",
     "output_type": "stream",
     "text": [
      "Epoch 1/5\n",
      "1875/1875 [==============================] - 8s 2ms/step - loss: 0.4664 - accuracy: 0.8777\n",
      "Epoch 2/5\n",
      "1875/1875 [==============================] - 4s 2ms/step - loss: 0.3039 - accuracy: 0.9147\n",
      "Epoch 3/5\n",
      "1875/1875 [==============================] - 4s 2ms/step - loss: 0.2833 - accuracy: 0.9209\n",
      "Epoch 4/5\n",
      "1875/1875 [==============================] - 3s 2ms/step - loss: 0.2732 - accuracy: 0.9236\n",
      "Epoch 5/5\n",
      "1875/1875 [==============================] - 3s 2ms/step - loss: 0.2666 - accuracy: 0.9253\n"
     ]
    },
    {
     "data": {
      "text/plain": [
       "<keras.callbacks.History at 0x19597850f08>"
      ]
     },
     "execution_count": 17,
     "metadata": {},
     "output_type": "execute_result"
    }
   ],
   "source": [
    "model=keras.Sequential([\n",
    "    keras.layers.Dense(10,input_shape=(28*28,),activation='sigmoid')\n",
    "])\n",
    "\n",
    "model.compile(optimizer='adam',\n",
    "             loss='sparse_categorical_crossentropy',\n",
    "             metrics=['accuracy'])\n",
    "\n",
    "model.fit(X_train_flattened, y_train, epochs=5)"
   ]
  },
  {
   "cell_type": "code",
   "execution_count": 18,
   "metadata": {},
   "outputs": [
    {
     "name": "stdout",
     "output_type": "stream",
     "text": [
      "313/313 [==============================] - 1s 1ms/step - loss: 0.2661 - accuracy: 0.9254\n"
     ]
    },
    {
     "data": {
      "text/plain": [
       "[0.26612889766693115, 0.9254000186920166]"
      ]
     },
     "execution_count": 18,
     "metadata": {},
     "output_type": "execute_result"
    }
   ],
   "source": [
    "model.evaluate(X_test_flattened,y_test)"
   ]
  },
  {
   "cell_type": "code",
   "execution_count": 19,
   "metadata": {},
   "outputs": [],
   "source": [
    "pred=model.predict(X_test_flattened)"
   ]
  },
  {
   "cell_type": "code",
   "execution_count": 20,
   "metadata": {},
   "outputs": [
    {
     "data": {
      "text/plain": [
       "(10000, 10)"
      ]
     },
     "execution_count": 20,
     "metadata": {},
     "output_type": "execute_result"
    }
   ],
   "source": [
    "pred.shape"
   ]
  },
  {
   "cell_type": "code",
   "execution_count": 23,
   "metadata": {},
   "outputs": [
    {
     "data": {
      "image/png": "[encoded data removed]",
      "text/plain": [
       "<Figure size 288x288 with 1 Axes>"
      ]
     },
     "metadata": {
      "needs_background": "light"
     },
     "output_type": "display_data"
    }
   ],
   "source": [
    "plt.matshow(X_test[3])\n",
    "plt.show()"
   ]
  },
  {
   "cell_type": "code",
   "execution_count": 24,
   "metadata": {},
   "outputs": [
    {
     "data": {
      "text/plain": [
       "0"
      ]
     },
     "execution_count": 24,
     "metadata": {},
     "output_type": "execute_result"
    }
   ],
   "source": [
    "np.argmax(pred[3])"
   ]
  },
  {
   "cell_type": "code",
   "execution_count": 25,
   "metadata": {},
   "outputs": [],
   "source": [
    "y_pred_labels = [np.argmax(i) for i in pred]"
   ]
  },
  {
   "cell_type": "code",
   "execution_count": 26,
   "metadata": {},
   "outputs": [
    {
     "data": {
      "text/plain": [
       "<tf.Tensor: shape=(10, 10), dtype=int32, numpy=\n",
       "array([[ 960,    0,    1,    2,    0,    4,    6,    3,    4,    0],\n",
       "       [   0, 1116,    3,    2,    0,    1,    4,    2,    7,    0],\n",
       "       [   5,   10,  913,   19,   10,    2,   10,   11,   48,    4],\n",
       "       [   1,    0,   15,  931,    0,   19,    2,   11,   23,    8],\n",
       "       [   1,    1,    4,    1,  920,    0,   10,    3,   10,   32],\n",
       "       [   7,    3,    3,   40,   11,  761,   12,    8,   40,    7],\n",
       "       [  11,    3,    9,    1,    8,   14,  907,    2,    3,    0],\n",
       "       [   1,    6,   19,    9,    8,    0,    0,  950,    3,   32],\n",
       "       [   5,   10,    5,   20,    9,   20,    8,   11,  880,    6],\n",
       "       [  10,    7,    1,   10,   28,    5,    0,   23,    9,  916]])>"
      ]
     },
     "execution_count": 26,
     "metadata": {},
     "output_type": "execute_result"
    }
   ],
   "source": [
    "cm = tf.math.confusion_matrix(labels=y_test,predictions=y_pred_labels)\n",
    "cm"
   ]
  },
  {
   "cell_type": "code",
   "execution_count": 27,
   "metadata": {},
   "outputs": [
    {
     "data": {
      "text/plain": [
       "Text(69.0, 0.5, 'Truth')"
      ]
     },
     "execution_count": 27,
     "metadata": {},
     "output_type": "execute_result"
    },
    {
     "data": {
      "image/png": "[encoded data removed]",
      "text/plain": [
       "<Figure size 720x504 with 2 Axes>"
      ]
     },
     "metadata": {
      "needs_background": "light"
     },
     "output_type": "display_data"
    }
   ],
   "source": [
    "plt.figure(figsize = (10,7))\n",
    "sn.heatmap(cm, annot=True, fmt='d')\n",
    "plt.xlabel('Predicted')\n",
    "plt.ylabel('Truth')"
   ]
  },
  {
   "cell_type": "markdown",
   "metadata": {},
   "source": [
    "Now trying differnt parameters for model building"
   ]
  },
  {
   "cell_type": "code",
   "execution_count": 28,
   "metadata": {},
   "outputs": [
    {
     "name": "stdout",
     "output_type": "stream",
     "text": [
      "Epoch 1/5\n",
      "1875/1875 [==============================] - 11s 6ms/step - loss: 0.2007 - accuracy: 0.9400\n",
      "Epoch 2/5\n",
      "1875/1875 [==============================] - 10s 6ms/step - loss: 0.0809 - accuracy: 0.9750\n",
      "Epoch 3/5\n",
      "1875/1875 [==============================] - 10s 6ms/step - loss: 0.0531 - accuracy: 0.9833\n",
      "Epoch 4/5\n",
      "1875/1875 [==============================] - 10s 6ms/step - loss: 0.0354 - accuracy: 0.9888\n",
      "Epoch 5/5\n",
      "1875/1875 [==============================] - 11s 6ms/step - loss: 0.0283 - accuracy: 0.9910\n"
     ]
    },
    {
     "data": {
      "text/plain": [
       "<keras.callbacks.History at 0x1959b969448>"
      ]
     },
     "execution_count": 28,
     "metadata": {},
     "output_type": "execute_result"
    }
   ],
   "source": [
    "model=keras.Sequential([\n",
    "    keras.layers.Dense(500,input_shape=(28*28,),activation='relu'),\n",
    "    keras.layers.Dense(10,activation='sigmoid')\n",
    "])\n",
    "\n",
    "model.compile(optimizer='adam',\n",
    "             loss='sparse_categorical_crossentropy',\n",
    "             metrics=['accuracy'])\n",
    "\n",
    "model.fit(X_train_flattened, y_train, epochs=5)"
   ]
  },
  {
   "cell_type": "code",
   "execution_count": 29,
   "metadata": {},
   "outputs": [
    {
     "name": "stdout",
     "output_type": "stream",
     "text": [
      "313/313 [==============================] - 1s 3ms/step - loss: 0.0677 - accuracy: 0.9816\n"
     ]
    },
    {
     "data": {
      "text/plain": [
       "[0.06774451583623886, 0.9815999865531921]"
      ]
     },
     "execution_count": 29,
     "metadata": {},
     "output_type": "execute_result"
    }
   ],
   "source": [
    "model.evaluate(X_test_flattened,y_test)"
   ]
  },
  {
   "cell_type": "markdown",
   "metadata": {},
   "source": [
    "* Accuracy is now increased"
   ]
  },
  {
   "cell_type": "code",
   "execution_count": 32,
   "metadata": {},
   "outputs": [
    {
     "name": "stdout",
     "output_type": "stream",
     "text": [
      "Epoch 1/5\n",
      "1875/1875 [==============================] - 12s 6ms/step - loss: 0.1914 - accuracy: 0.9419\n",
      "Epoch 2/5\n",
      "1875/1875 [==============================] - 11s 6ms/step - loss: 0.0789 - accuracy: 0.9758\n",
      "Epoch 3/5\n",
      "1875/1875 [==============================] - 11s 6ms/step - loss: 0.0549 - accuracy: 0.9829\n",
      "Epoch 4/5\n",
      "1875/1875 [==============================] - 11s 6ms/step - loss: 0.0418 - accuracy: 0.9862\n",
      "Epoch 5/5\n",
      "1875/1875 [==============================] - 12s 6ms/step - loss: 0.0320 - accuracy: 0.9891\n"
     ]
    },
    {
     "data": {
      "text/plain": [
       "<keras.callbacks.History at 0x1959d1980c8>"
      ]
     },
     "execution_count": 32,
     "metadata": {},
     "output_type": "execute_result"
    }
   ],
   "source": [
    "model=keras.Sequential([\n",
    "    keras.layers.Dense(500,input_shape=(28*28,),activation='relu'),\n",
    "    keras.layers.Dense(100,activation='relu'),\n",
    "    keras.layers.Dense(10,activation='sigmoid')\n",
    "])\n",
    "\n",
    "model.compile(optimizer='adam',\n",
    "             loss='sparse_categorical_crossentropy',\n",
    "             metrics=['accuracy'])\n",
    "\n",
    "model.fit(X_train_flattened, y_train, epochs=5)"
   ]
  },
  {
   "cell_type": "code",
   "execution_count": 33,
   "metadata": {},
   "outputs": [
    {
     "name": "stdout",
     "output_type": "stream",
     "text": [
      "313/313 [==============================] - 1s 3ms/step - loss: 0.0731 - accuracy: 0.9793\n"
     ]
    },
    {
     "data": {
      "text/plain": [
       "[0.07310017198324203, 0.9793000221252441]"
      ]
     },
     "execution_count": 33,
     "metadata": {},
     "output_type": "execute_result"
    }
   ],
   "source": [
    "model.evaluate(X_test_flattened,y_test)"
   ]
  },
  {
   "cell_type": "markdown",
   "metadata": {},
   "source": [
    "* Not as accurate is previous model"
   ]
  },
  {
   "cell_type": "code",
   "execution_count": 35,
   "metadata": {},
   "outputs": [
    {
     "name": "stdout",
     "output_type": "stream",
     "text": [
      "Epoch 1/10\n",
      "1875/1875 [==============================] - 11s 5ms/step - loss: 0.5486 - accuracy: 0.8614\n",
      "Epoch 2/10\n",
      "1875/1875 [==============================] - 9s 5ms/step - loss: 0.2656 - accuracy: 0.9251\n",
      "Epoch 3/10\n",
      "1875/1875 [==============================] - 9s 5ms/step - loss: 0.2150 - accuracy: 0.9388\n",
      "Epoch 4/10\n",
      "1875/1875 [==============================] - 9s 5ms/step - loss: 0.1817 - accuracy: 0.9488\n",
      "Epoch 5/10\n",
      "1875/1875 [==============================] - 9s 5ms/step - loss: 0.1571 - accuracy: 0.9554\n",
      "Epoch 6/10\n",
      "1875/1875 [==============================] - 9s 5ms/step - loss: 0.1386 - accuracy: 0.9607\n",
      "Epoch 7/10\n",
      "1875/1875 [==============================] - 9s 5ms/step - loss: 0.1238 - accuracy: 0.9650\n",
      "Epoch 8/10\n",
      "1875/1875 [==============================] - 9s 5ms/step - loss: 0.1111 - accuracy: 0.9689\n",
      "Epoch 9/10\n",
      "1875/1875 [==============================] - 9s 5ms/step - loss: 0.1006 - accuracy: 0.9714\n",
      "Epoch 10/10\n",
      "1875/1875 [==============================] - 9s 5ms/step - loss: 0.0916 - accuracy: 0.9742\n"
     ]
    },
    {
     "data": {
      "text/plain": [
       "<keras.callbacks.History at 0x1959df8f888>"
      ]
     },
     "execution_count": 35,
     "metadata": {},
     "output_type": "execute_result"
    }
   ],
   "source": [
    "model=keras.Sequential([\n",
    "    keras.layers.Dense(500,input_shape=(28*28,),activation='relu'),\n",
    "    keras.layers.Dense(100,activation='relu'),\n",
    "    keras.layers.Dense(10,activation='sigmoid')\n",
    "])\n",
    "\n",
    "model.compile(optimizer='sgd',\n",
    "             loss='sparse_categorical_crossentropy',\n",
    "             metrics=['accuracy'])\n",
    "\n",
    "model.fit(X_train_flattened, y_train, epochs=10)"
   ]
  },
  {
   "cell_type": "code",
   "execution_count": 36,
   "metadata": {},
   "outputs": [
    {
     "name": "stdout",
     "output_type": "stream",
     "text": [
      "313/313 [==============================] - 1s 3ms/step - loss: 0.1008 - accuracy: 0.9690\n"
     ]
    },
    {
     "data": {
      "text/plain": [
       "[0.10083974897861481, 0.968999981880188]"
      ]
     },
     "execution_count": 36,
     "metadata": {},
     "output_type": "execute_result"
    }
   ],
   "source": [
    "model.evaluate(X_test_flattened,y_test)"
   ]
  },
  {
   "cell_type": "code",
   "execution_count": 38,
   "metadata": {},
   "outputs": [
    {
     "name": "stdout",
     "output_type": "stream",
     "text": [
      "Epoch 1/10\n",
      "1875/1875 [==============================] - 9s 5ms/step - loss: 0.6041 - accuracy: 0.8530\n",
      "Epoch 2/10\n",
      "1875/1875 [==============================] - 9s 5ms/step - loss: 0.3220 - accuracy: 0.9107\n",
      "Epoch 3/10\n",
      "1875/1875 [==============================] - 9s 5ms/step - loss: 0.2733 - accuracy: 0.9230\n",
      "Epoch 4/10\n",
      "1875/1875 [==============================] - 9s 5ms/step - loss: 0.2420 - accuracy: 0.9324\n",
      "Epoch 5/10\n",
      "1875/1875 [==============================] - 9s 5ms/step - loss: 0.2184 - accuracy: 0.9392\n",
      "Epoch 6/10\n",
      "1875/1875 [==============================] - 9s 5ms/step - loss: 0.1998 - accuracy: 0.9445\n",
      "Epoch 7/10\n",
      "1875/1875 [==============================] - 9s 5ms/step - loss: 0.1839 - accuracy: 0.9493\n",
      "Epoch 8/10\n",
      "1875/1875 [==============================] - 9s 5ms/step - loss: 0.1708 - accuracy: 0.9527\n",
      "Epoch 9/10\n",
      "1875/1875 [==============================] - 9s 5ms/step - loss: 0.1593 - accuracy: 0.9556\n",
      "Epoch 10/10\n",
      "1875/1875 [==============================] - 9s 5ms/step - loss: 0.1493 - accuracy: 0.9589\n"
     ]
    },
    {
     "data": {
      "text/plain": [
       "<keras.callbacks.History at 0x1959d47f748>"
      ]
     },
     "execution_count": 38,
     "metadata": {},
     "output_type": "execute_result"
    }
   ],
   "source": [
    "model=keras.Sequential([\n",
    "    keras.layers.Dense(500,input_shape=(28*28,),activation='relu'),\n",
    "    keras.layers.Dense(10,activation='sigmoid')\n",
    "])\n",
    "\n",
    "model.compile(optimizer='sgd',\n",
    "             loss='sparse_categorical_crossentropy',\n",
    "             metrics=['accuracy'])\n",
    "\n",
    "model.fit(X_train_flattened, y_train, epochs=10)"
   ]
  },
  {
   "cell_type": "code",
   "execution_count": 39,
   "metadata": {},
   "outputs": [
    {
     "name": "stdout",
     "output_type": "stream",
     "text": [
      "313/313 [==============================] - 1s 3ms/step - loss: 0.1486 - accuracy: 0.9577\n"
     ]
    },
    {
     "data": {
      "text/plain": [
       "[0.14863526821136475, 0.9577000141143799]"
      ]
     },
     "execution_count": 39,
     "metadata": {},
     "output_type": "execute_result"
    }
   ],
   "source": [
    "model.evaluate(X_test_flattened,y_test)"
   ]
  },
  {
   "cell_type": "code",
   "execution_count": 40,
   "metadata": {},
   "outputs": [
    {
     "name": "stdout",
     "output_type": "stream",
     "text": [
      "Epoch 1/5\n",
      "1875/1875 [==============================] - 12s 6ms/step - loss: 0.0118 - accuracy: 0.1044\n",
      "Epoch 2/5\n",
      "1875/1875 [==============================] - 10s 6ms/step - loss: 1.4258e-06 - accuracy: 0.0998\n",
      "Epoch 3/5\n",
      "1875/1875 [==============================] - 10s 6ms/step - loss: -9.1218e-07 - accuracy: 0.0992\n",
      "Epoch 4/5\n",
      "1875/1875 [==============================] - 11s 6ms/step - loss: -1.3774e-06 - accuracy: 0.0989\n",
      "Epoch 5/5\n",
      "1875/1875 [==============================] - 11s 6ms/step - loss: -1.5152e-06 - accuracy: 0.0989\n"
     ]
    },
    {
     "data": {
      "text/plain": [
       "<keras.callbacks.History at 0x195e30e8848>"
      ]
     },
     "execution_count": 40,
     "metadata": {},
     "output_type": "execute_result"
    }
   ],
   "source": [
    "model=keras.Sequential([\n",
    "    keras.layers.Dense(500,input_shape=(28*28,),activation='relu'),\n",
    "    keras.layers.Dense(10,activation='sigmoid')\n",
    "])\n",
    "\n",
    "model.compile(optimizer='adam',\n",
    "             loss='kullback_leibler_divergence',\n",
    "             metrics=['accuracy'])\n",
    "\n",
    "model.fit(X_train_flattened, y_train, epochs=5)"
   ]
  },
  {
   "cell_type": "code",
   "execution_count": 42,
   "metadata": {},
   "outputs": [
    {
     "name": "stdout",
     "output_type": "stream",
     "text": [
      "313/313 [==============================] - 1s 3ms/step - loss: -1.5030e-06 - accuracy: 0.0983\n"
     ]
    },
    {
     "data": {
      "text/plain": [
       "[-1.5030288977868622e-06, 0.09830000251531601]"
      ]
     },
     "execution_count": 42,
     "metadata": {},
     "output_type": "execute_result"
    }
   ],
   "source": [
    "model.evaluate(X_test_flattened,y_test)"
   ]
  },
  {
   "cell_type": "code",
   "execution_count": 43,
   "metadata": {},
   "outputs": [
    {
     "name": "stdout",
     "output_type": "stream",
     "text": [
      "Epoch 1/20\n",
      "1875/1875 [==============================] - 11s 6ms/step - loss: 0.2015 - accuracy: 0.9402\n",
      "Epoch 2/20\n",
      "1875/1875 [==============================] - 10s 6ms/step - loss: 0.0797 - accuracy: 0.9754\n",
      "Epoch 3/20\n",
      "1875/1875 [==============================] - 10s 6ms/step - loss: 0.0510 - accuracy: 0.9837 0s - loss: 0.0511 - ac\n",
      "Epoch 4/20\n",
      "1875/1875 [==============================] - 10s 6ms/step - loss: 0.0367 - accuracy: 0.9886\n",
      "Epoch 5/20\n",
      "1875/1875 [==============================] - 10s 6ms/step - loss: 0.0265 - accuracy: 0.9913\n",
      "Epoch 6/20\n",
      "1875/1875 [==============================] - 10s 6ms/step - loss: 0.0205 - accuracy: 0.9936\n",
      "Epoch 7/20\n",
      "1875/1875 [==============================] - 10s 6ms/step - loss: 0.0172 - accuracy: 0.9945\n",
      "Epoch 8/20\n",
      "1875/1875 [==============================] - 11s 6ms/step - loss: 0.0136 - accuracy: 0.9954\n",
      "Epoch 9/20\n",
      "1875/1875 [==============================] - 11s 6ms/step - loss: 0.0117 - accuracy: 0.9960\n",
      "Epoch 10/20\n",
      "1875/1875 [==============================] - 11s 6ms/step - loss: 0.0103 - accuracy: 0.9966\n",
      "Epoch 11/20\n",
      "1875/1875 [==============================] - 11s 6ms/step - loss: 0.0089 - accuracy: 0.9971\n",
      "Epoch 12/20\n",
      "1875/1875 [==============================] - 11s 6ms/step - loss: 0.0093 - accuracy: 0.9969\n",
      "Epoch 13/20\n",
      "1875/1875 [==============================] - 11s 6ms/step - loss: 0.0090 - accuracy: 0.9971\n",
      "Epoch 14/20\n",
      "1875/1875 [==============================] - 11s 6ms/step - loss: 0.0068 - accuracy: 0.9979\n",
      "Epoch 15/20\n",
      "1875/1875 [==============================] - 11s 6ms/step - loss: 0.0090 - accuracy: 0.9972\n",
      "Epoch 16/20\n",
      "1875/1875 [==============================] - 11s 6ms/step - loss: 0.0072 - accuracy: 0.9977\n",
      "Epoch 17/20\n",
      "1875/1875 [==============================] - 11s 6ms/step - loss: 0.0070 - accuracy: 0.9974\n",
      "Epoch 18/20\n",
      "1875/1875 [==============================] - 10s 6ms/step - loss: 0.0077 - accuracy: 0.9974\n",
      "Epoch 19/20\n",
      "1875/1875 [==============================] - 11s 6ms/step - loss: 0.0037 - accuracy: 0.9987\n",
      "Epoch 20/20\n",
      "1875/1875 [==============================] - 11s 6ms/step - loss: 0.0063 - accuracy: 0.9980\n"
     ]
    },
    {
     "data": {
      "text/plain": [
       "<keras.callbacks.History at 0x195e33e3308>"
      ]
     },
     "execution_count": 43,
     "metadata": {},
     "output_type": "execute_result"
    }
   ],
   "source": [
    "model=keras.Sequential([\n",
    "    keras.layers.Dense(500,input_shape=(28*28,),activation='relu'),\n",
    "    keras.layers.Dense(10,activation='sigmoid')\n",
    "])\n",
    "\n",
    "model.compile(optimizer='adam',\n",
    "             loss='sparse_categorical_crossentropy',\n",
    "             metrics=['accuracy'])\n",
    "\n",
    "model.fit(X_train_flattened, y_train, epochs=20)"
   ]
  },
  {
   "cell_type": "code",
   "execution_count": 44,
   "metadata": {},
   "outputs": [
    {
     "name": "stdout",
     "output_type": "stream",
     "text": [
      "313/313 [==============================] - 1s 3ms/step - loss: 0.1038 - accuracy: 0.9816\n"
     ]
    },
    {
     "data": {
      "text/plain": [
       "[0.10379859805107117, 0.9815999865531921]"
      ]
     },
     "execution_count": 44,
     "metadata": {},
     "output_type": "execute_result"
    }
   ],
   "source": [
    "model.evaluate(X_test_flattened,y_test)"
   ]
  },
  {
   "cell_type": "markdown",
   "metadata": {},
   "source": [
    "* This is then most accurate model till now"
   ]
  },
  {
   "cell_type": "code",
   "execution_count": 45,
   "metadata": {},
   "outputs": [
    {
     "name": "stdout",
     "output_type": "stream",
     "text": [
      "Epoch 1/30\n",
      "1875/1875 [==============================] - 12s 6ms/step - loss: 0.1995 - accuracy: 0.9411\n",
      "Epoch 2/30\n",
      "1875/1875 [==============================] - 10s 5ms/step - loss: 0.0787 - accuracy: 0.9759\n",
      "Epoch 3/30\n",
      "1875/1875 [==============================] - 10s 5ms/step - loss: 0.0519 - accuracy: 0.9837\n",
      "Epoch 4/30\n",
      "1875/1875 [==============================] - 10s 5ms/step - loss: 0.0367 - accuracy: 0.9876\n",
      "Epoch 5/30\n",
      "1875/1875 [==============================] - 10s 5ms/step - loss: 0.0258 - accuracy: 0.9916\n",
      "Epoch 6/30\n",
      "1875/1875 [==============================] - 11s 6ms/step - loss: 0.0212 - accuracy: 0.9933\n",
      "Epoch 7/30\n",
      "1875/1875 [==============================] - 10s 5ms/step - loss: 0.0157 - accuracy: 0.9947\n",
      "Epoch 8/30\n",
      "1875/1875 [==============================] - 10s 5ms/step - loss: 0.0149 - accuracy: 0.9953\n",
      "Epoch 9/30\n",
      "1875/1875 [==============================] - 10s 6ms/step - loss: 0.0111 - accuracy: 0.9966\n",
      "Epoch 10/30\n",
      "1875/1875 [==============================] - 10s 6ms/step - loss: 0.0102 - accuracy: 0.9961\n",
      "Epoch 11/30\n",
      "1875/1875 [==============================] - 11s 6ms/step - loss: 0.0102 - accuracy: 0.9967\n",
      "Epoch 12/30\n",
      "1875/1875 [==============================] - 10s 6ms/step - loss: 0.0088 - accuracy: 0.9971\n",
      "Epoch 13/30\n",
      "1875/1875 [==============================] - 11s 6ms/step - loss: 0.0077 - accuracy: 0.9977\n",
      "Epoch 14/30\n",
      "1875/1875 [==============================] - 11s 6ms/step - loss: 0.0077 - accuracy: 0.9974\n",
      "Epoch 15/30\n",
      "1875/1875 [==============================] - 11s 6ms/step - loss: 0.0058 - accuracy: 0.9978\n",
      "Epoch 16/30\n",
      "1875/1875 [==============================] - 11s 6ms/step - loss: 0.0081 - accuracy: 0.9976\n",
      "Epoch 17/30\n",
      "1875/1875 [==============================] - 11s 6ms/step - loss: 0.0060 - accuracy: 0.9981\n",
      "Epoch 18/30\n",
      "1875/1875 [==============================] - 10s 6ms/step - loss: 0.0065 - accuracy: 0.9981\n",
      "Epoch 19/30\n",
      "1875/1875 [==============================] - 10s 6ms/step - loss: 0.0049 - accuracy: 0.9985\n",
      "Epoch 20/30\n",
      "1875/1875 [==============================] - 11s 6ms/step - loss: 0.0067 - accuracy: 0.9981\n",
      "Epoch 21/30\n",
      "1875/1875 [==============================] - 11s 6ms/step - loss: 0.0054 - accuracy: 0.9981\n",
      "Epoch 22/30\n",
      "1875/1875 [==============================] - 11s 6ms/step - loss: 0.0045 - accuracy: 0.9986\n",
      "Epoch 23/30\n",
      "1875/1875 [==============================] - 11s 6ms/step - loss: 0.0057 - accuracy: 0.9979\n",
      "Epoch 24/30\n",
      "1875/1875 [==============================] - 11s 6ms/step - loss: 0.0038 - accuracy: 0.9988\n",
      "Epoch 25/30\n",
      "1875/1875 [==============================] - 11s 6ms/step - loss: 0.0066 - accuracy: 0.9981\n",
      "Epoch 26/30\n",
      "1875/1875 [==============================] - 11s 6ms/step - loss: 0.0041 - accuracy: 0.9987\n",
      "Epoch 27/30\n",
      "1875/1875 [==============================] - 10s 6ms/step - loss: 0.0046 - accuracy: 0.9986\n",
      "Epoch 28/30\n",
      "1875/1875 [==============================] - 10s 6ms/step - loss: 0.0022 - accuracy: 0.9993\n",
      "Epoch 29/30\n",
      "1875/1875 [==============================] - 11s 6ms/step - loss: 0.0070 - accuracy: 0.9980\n",
      "Epoch 30/30\n",
      "1875/1875 [==============================] - 11s 6ms/step - loss: 0.0041 - accuracy: 0.9988\n"
     ]
    },
    {
     "data": {
      "text/plain": [
       "<keras.callbacks.History at 0x195e4b00908>"
      ]
     },
     "execution_count": 45,
     "metadata": {},
     "output_type": "execute_result"
    }
   ],
   "source": [
    "model=keras.Sequential([\n",
    "    keras.layers.Dense(500,input_shape=(28*28,),activation='relu'),\n",
    "    keras.layers.Dense(10,activation='sigmoid')\n",
    "])\n",
    "\n",
    "model.compile(optimizer='adam',\n",
    "             loss='sparse_categorical_crossentropy',\n",
    "             metrics=['accuracy'])\n",
    "\n",
    "model.fit(X_train_flattened, y_train, epochs=30)"
   ]
  },
  {
   "cell_type": "code",
   "execution_count": 46,
   "metadata": {},
   "outputs": [
    {
     "name": "stdout",
     "output_type": "stream",
     "text": [
      "313/313 [==============================] - 1s 3ms/step - loss: 0.1400 - accuracy: 0.9818\n"
     ]
    },
    {
     "data": {
      "text/plain": [
       "[0.14000080525875092, 0.9818000197410583]"
      ]
     },
     "execution_count": 46,
     "metadata": {},
     "output_type": "execute_result"
    }
   ],
   "source": [
    "model.evaluate(X_test_flattened,y_test)"
   ]
  }
 ],
 "metadata": {
  "kernelspec": {
   "display_name": "Python 3",
   "language": "python",
   "name": "python3"
  },
  "language_info": {
   "codemirror_mode": {
    "name": "ipython",
    "version": 3
   },
   "file_extension": ".py",
   "mimetype": "text/x-python",
   "name": "python",
   "nbconvert_exporter": "python",
   "pygments_lexer": "ipython3",
   "version": "3.7.6"
  }
 },
 "nbformat": 4,
 "nbformat_minor": 4
}
